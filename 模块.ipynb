{
 "cells": [
  {
   "cell_type": "markdown",
   "metadata": {},
   "source": [
    "为了编写可维护的代码，我们很多函数分组，分别放到不同的文件里，这样，每个文件包含的代码相对很少。在Python中一个.py文件就称为一个模块(module)。"
   ]
  },
  {
   "cell_type": "markdown",
   "metadata": {},
   "source": [
    "模块的好处：\n",
    "\n",
    "最大的好处就是提高了代码的可维护性。其次，编写代码不必从零开始。当一个模块编写完成，就可以被其他地方引用。在编写程序的时候也经常引用其他模块，包括Python内置函数和第三方的模块。使用模块还可以避免函数名和变量名冲突。但是也要注意，尽量不要与内置函数名字冲突。"
   ]
  },
  {
   "cell_type": "markdown",
   "metadata": {},
   "source": [
    "如果不同人编写模块名相同？为了避免模块名冲突，Python又引入了按目录来组织模块的方法，称为包(package)"
   ]
  },
  {
   "cell_type": "code",
   "execution_count": 1,
   "metadata": {},
   "outputs": [],
   "source": [
    "## 举例\n",
    "## 一个abc.py的文件就是一个名字为 abc的模块，一个xyz.py的文件就是一个名字为xyz的模块。\n",
    "## 假设这两个模块与其他模块冲突了，于是通过包来组织模块避免冲突。方法就是选择一个顶层包名，比如mycompany。此时mycompany包括\n",
    "## __init__.py,abc.py,xyz.py。引入包后，只要顶层的包名不冲突，那所有模块都不会冲突。现在abc.py模块的名字改变成mycompany.abc。\n",
    "## 注意：每个包目录下都会有一个__init__.py，这个文件是必须存在的。否则，Python就把这个目录当成普通目录，而不是一个包。__init__.py可以是空文件，\n",
    "## 也可以是Python代码，因为__init__.py本身就是一个模块，而它的模块名就是mycompany。"
   ]
  },
  {
   "cell_type": "markdown",
   "metadata": {},
   "source": [
    "自己创建模块时要注意命名，不能和Python自带的模块名称冲突。例如，系统自带了sys模块，自己的模块就不可命名为sys.py，否则将无法导入系统自带的sys模块。"
   ]
  },
  {
   "cell_type": "markdown",
   "metadata": {},
   "source": [
    "## 小结"
   ]
  },
  {
   "cell_type": "markdown",
   "metadata": {},
   "source": [
    "模块是一组Python代码的集合，可以使用其他模块，也可以被其他模块使用。\n",
    "\n",
    "创建模块时，要注意：\n",
    "\n",
    "模块名要遵循Python变量命名规范，不要使用中文、特殊字符\n",
    "\n",
    "模块名不要和系统模块冲突，最好查看系统是否已存在该模块，检查方法是在Python交互环境执行import abc，若成功则说明系统存在此模块。"
   ]
  },
  {
   "cell_type": "markdown",
   "metadata": {},
   "source": [
    "## 1. 使用模块"
   ]
  },
  {
   "cell_type": "markdown",
   "metadata": {},
   "source": [
    "Python本身就内置了很多非常有用的模块，只要安装完毕，这些模块就可以立刻使用。"
   ]
  },
  {
   "cell_type": "markdown",
   "metadata": {},
   "source": [
    "以内建的sys模块为例，编写一个hello的模块"
   ]
  },
  {
   "cell_type": "code",
   "execution_count": 2,
   "metadata": {},
   "outputs": [],
   "source": [
    "#!/usr/bin/env python3\n",
    "# -*- coding: utf-8 -*-\n",
    "\n",
    "' a test module '\n",
    "\n",
    "__author__ = 'LinGavinQ'\n",
    "\n",
    "import sys\n",
    "\n",
    "def test():\n",
    "    args = sys.argv\n",
    "    if len(args)==1:\n",
    "        print('hello,world!')\n",
    "    elif len(args)==2:\n",
    "        print('hello, %s!' % args[1])\n",
    "    else:\n",
    "        print('too many arguments!')\n",
    "        \n",
    "if __name__=='__main__':\n",
    "    test()"
   ]
  },
  {
   "cell_type": "markdown",
   "metadata": {},
   "source": [
    "第一行和第二行是标准注释，第一行注释可以让这个hello.py文件直接在Unix/Linux/Mac上运行，第二行注释表示.py文件本身使用标准UTF-8编码。\n",
    "\n",
    "第四行是一个字符串，表示模块的文档注释，任何模块代码的第一个字符串都被视为模块的文档注释。\n",
    "\n",
    "第六行使用__author__变量把作者写进去。"
   ]
  },
  {
   "cell_type": "code",
   "execution_count": 3,
   "metadata": {},
   "outputs": [],
   "source": [
    "# 使用sys模块的第一步就是导入模块\n",
    "\n",
    "# import sys\n",
    "\n",
    "# 导入sys模块后，就有了变量sys指向模块，利用sys这个变量，就可以访问sys模块的所有功能。\n",
    "\n",
    "# sys模块有一个argv变量。用list存储了命令行的所有参数。argv至少有一个元素，因为第一个参数就是.py文件的名称\n",
    "# 例如\n",
    "# 运行python3 hello.py获得的sys.argv就是['hello.py']"
   ]
  },
  {
   "cell_type": "code",
   "execution_count": 4,
   "metadata": {},
   "outputs": [],
   "source": [
    "# if __name__='__main__':\n",
    "#      test()\n",
    "\n",
    "# 在命令行运行hello模块文件时，Python解释器把一个特殊变量__name__置为__main__，而如果在其他地方导入该hello模块时，if判断将失败，因此，这种\n",
    "# if测试可以让一个模块通过命令行运行时执行一些额外的代码，最常见的就是运行测试。"
   ]
  },
  {
   "cell_type": "markdown",
   "metadata": {},
   "source": [
    "## 作用域"
   ]
  },
  {
   "cell_type": "markdown",
   "metadata": {},
   "source": [
    "在一个模块中，会定义很多函数和变量，但有的函数和变量希望给别人使用，有的函数和变量我们希望仅仅在模块内部使用。在Python中，是通过_前缀来实现的"
   ]
  },
  {
   "cell_type": "markdown",
   "metadata": {},
   "source": [
    "正常的函数和变量名是公开的，可以被直接引用。"
   ]
  },
  {
   "cell_type": "code",
   "execution_count": 5,
   "metadata": {},
   "outputs": [],
   "source": [
    "# 类似__xxx__这样的变量是特殊变量，可以被直接引用。\n",
    "# 类似_xxx和__xxx这样的函数或变量就是非公开的，不应该被直接引用。"
   ]
  },
  {
   "cell_type": "code",
   "execution_count": 6,
   "metadata": {},
   "outputs": [],
   "source": [
    "def _private_1(name):\n",
    "    return 'hello, %s' % name\n",
    "\n",
    "def _private_2(name):\n",
    "    return 'hello, %s' % name\n",
    "\n",
    "def greeting(name):\n",
    "    if len(name) > 3:\n",
    "        return _private_1(name)\n",
    "    else:\n",
    "        return _private_2(name)"
   ]
  },
  {
   "cell_type": "markdown",
   "metadata": {},
   "source": [
    "在模块里公开greeting()函数，而把内部逻辑用private函数隐藏起来了，调用greeting()函数不用关心内部的private函数。\n",
    "\n",
    "外部不需要引用的函数全部定义成private，只要外部需要引用的函数才定义为public。"
   ]
  },
  {
   "cell_type": "markdown",
   "metadata": {},
   "source": [
    "## 2. 安装第三方模块"
   ]
  },
  {
   "cell_type": "markdown",
   "metadata": {},
   "source": [
    "在Python中，安装第三方模块，是通过包管理工具pip完成"
   ]
  },
  {
   "cell_type": "markdown",
   "metadata": {},
   "source": [
    "## 安装常用模块"
   ]
  },
  {
   "cell_type": "markdown",
   "metadata": {},
   "source": [
    "在使用Python时，经常需要用到很多第三方库。用pip一个一个 安装费时费力，还需要考虑兼容性。推荐使用Anaconda，这是一个基于Python的数据处理和科学计算平台，它已经内置了很多有用的第三方库。"
   ]
  },
  {
   "cell_type": "markdown",
   "metadata": {},
   "source": [
    "## 模块搜索路径"
   ]
  },
  {
   "cell_type": "markdown",
   "metadata": {},
   "source": [
    "加载一个模块时，Python会在指定的路径下搜索对应的.py文件，如果找不到就会报错"
   ]
  },
  {
   "cell_type": "code",
   "execution_count": 7,
   "metadata": {},
   "outputs": [
    {
     "ename": "ModuleNotFoundError",
     "evalue": "No module named 'mymodule'",
     "output_type": "error",
     "traceback": [
      "\u001b[1;31m---------------------------------------------------------------------------\u001b[0m",
      "\u001b[1;31mModuleNotFoundError\u001b[0m                       Traceback (most recent call last)",
      "\u001b[1;32m<ipython-input-7-789c0ce43099>\u001b[0m in \u001b[0;36m<module>\u001b[1;34m\u001b[0m\n\u001b[1;32m----> 1\u001b[1;33m \u001b[1;32mimport\u001b[0m \u001b[0mmymodule\u001b[0m\u001b[1;33m\u001b[0m\u001b[1;33m\u001b[0m\u001b[0m\n\u001b[0m",
      "\u001b[1;31mModuleNotFoundError\u001b[0m: No module named 'mymodule'"
     ]
    }
   ],
   "source": [
    "import mymodule"
   ]
  },
  {
   "cell_type": "markdown",
   "metadata": {},
   "source": [
    "默认情况下，Python解释器会搜索当前目录、所有已安装的内置模块和第三方模块，搜索路径存放在sys模块的path变量"
   ]
  },
  {
   "cell_type": "code",
   "execution_count": null,
   "metadata": {},
   "outputs": [],
   "source": [
    "import sys"
   ]
  },
  {
   "cell_type": "code",
   "execution_count": null,
   "metadata": {},
   "outputs": [],
   "source": [
    "sys.path"
   ]
  },
  {
   "cell_type": "markdown",
   "metadata": {},
   "source": [
    "添加自己的搜索目录有两种方法"
   ]
  },
  {
   "cell_type": "markdown",
   "metadata": {},
   "source": [
    "1.直接修改sys.path，添加要搜索的目录"
   ]
  },
  {
   "cell_type": "code",
   "execution_count": null,
   "metadata": {},
   "outputs": [],
   "source": [
    "import sys"
   ]
  },
  {
   "cell_type": "code",
   "execution_count": null,
   "metadata": {},
   "outputs": [],
   "source": [
    "# sys.path.append('/Users/michael/my_py_scripts')"
   ]
  },
  {
   "cell_type": "markdown",
   "metadata": {},
   "source": [
    "这种方法在运行时修改，运行结束后失效"
   ]
  },
  {
   "cell_type": "markdown",
   "metadata": {},
   "source": [
    "2.设置环境变量PYTHONPATH"
   ]
  },
  {
   "cell_type": "markdown",
   "metadata": {},
   "source": [
    "该环境变量的内容会被自动添加到模块搜索路径中。设置方式与设置Path环境变量类似。注意只需要添加自己的搜索路径，Python自己本身的搜索路径不受影响。"
   ]
  }
 ],
 "metadata": {
  "kernelspec": {
   "display_name": "Python 3",
   "language": "python",
   "name": "python3"
  },
  "language_info": {
   "codemirror_mode": {
    "name": "ipython",
    "version": 3
   },
   "file_extension": ".py",
   "mimetype": "text/x-python",
   "name": "python",
   "nbconvert_exporter": "python",
   "pygments_lexer": "ipython3",
   "version": "3.7.4"
  }
 },
 "nbformat": 4,
 "nbformat_minor": 2
}
