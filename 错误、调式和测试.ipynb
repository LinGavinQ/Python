{
 "cells": [
  {
   "cell_type": "markdown",
   "metadata": {},
   "source": [
    "在程序运行过程中，总会遇到各种各样的错误。"
   ]
  },
  {
   "cell_type": "markdown",
   "metadata": {},
   "source": [
    "有的错误是程序编写有问题造成的，称之为bug，bug是必须修复的。\n",
    "\n",
    "有的错误是完全无法在程序运行过程中预测的，这类错误称之为异常。在程序中通常是必须处理的，否则，程序会因为各种问题终止并退出。"
   ]
  },
  {
   "cell_type": "markdown",
   "metadata": {},
   "source": [
    "Python内置了一套异常处理机制，来帮助我们进行错误处理。还需要跟踪程序的执行，查看变量的值是否正确，这个过程称为调试。Python的pdb可以让我们以单步方式执行代码。"
   ]
  },
  {
   "cell_type": "markdown",
   "metadata": {},
   "source": [
    "最后是测试，良好的测试就可以在程序修改后反复运行，确保程序输出符合我们编写的的测试。 "
   ]
  },
  {
   "cell_type": "markdown",
   "metadata": {},
   "source": [
    "# 一、 错误处理\n",
    "\n",
    "在程序运行的过程中，如果发生了错误，可以事先约定返回一个错误代码，就可以知道是否有错，以及出错的原因。\n",
    "try...except..finally..错误机制"
   ]
  },
  {
   "cell_type": "markdown",
   "metadata": {},
   "source": [
    "## 1.1 try机制"
   ]
  },
  {
   "cell_type": "code",
   "execution_count": 1,
   "metadata": {},
   "outputs": [
    {
     "ename": "SyntaxError",
     "evalue": "invalid syntax (<ipython-input-1-630c40ca6b13>, line 6)",
     "output_type": "error",
     "traceback": [
      "\u001b[1;36m  File \u001b[1;32m\"<ipython-input-1-630c40ca6b13>\"\u001b[1;36m, line \u001b[1;32m6\u001b[0m\n\u001b[1;33m    except ZeroDivisionError as e: # except捕获到ZeroDivisionError,所以执行\u001b[0m\n\u001b[1;37m         ^\u001b[0m\n\u001b[1;31mSyntaxError\u001b[0m\u001b[1;31m:\u001b[0m invalid syntax\n"
     ]
    }
   ],
   "source": [
    "try:\n",
    "    print('try ...')\n",
    "    r =10 / 0 # 产生错误\n",
    "    print('result:', r) # 此句不会被执行-\n",
    "\n",
    "    except ZeroDivisionError as e: # except捕获到ZeroDivisionError,所以执行\n",
    "    print('except:', e)\n",
    "finally: # 执行\n",
    "    print('finally ...')\n",
    "print('END') # 程序流程结束"
   ]
  },
  {
   "cell_type": "markdown",
   "metadata": {},
   "source": [
    "当我们认为某些代码可能会出错时，就用try来运行代码，如果执行出错，则后续代码不会继续执行\n",
    "而是直接跳转至错误处理代码，即except语句块，执行完except后，如果有finally语句块，则执行"
   ]
  },
  {
   "cell_type": "code",
   "execution_count": 2,
   "metadata": {},
   "outputs": [
    {
     "name": "stdout",
     "output_type": "stream",
     "text": [
      "try ...\n",
      "result: 5.0\n",
      "finally ...\n",
      "END\n"
     ]
    }
   ],
   "source": [
    "try:\n",
    "    print('try ...')\n",
    "    r =10 / 2 # 不产生错误\n",
    "    print('result:', r) # 执行\n",
    "except ZeroDivisionError as e: # 不执行\n",
    "    print('except:', e)\n",
    "finally: # 执行\n",
    "    print('finally ...')\n",
    "print('END') # 程序流程结束"
   ]
  },
  {
   "cell_type": "markdown",
   "metadata": {},
   "source": [
    "没有错误发生，所以except语句块不会被执行，如果有 finally，则一定会被执行。"
   ]
  },
  {
   "cell_type": "markdown",
   "metadata": {},
   "source": [
    "错误种类很多，如果发生了不同类型的错误，应该有不同的except语句块处理。"
   ]
  },
  {
   "cell_type": "code",
   "execution_count": 3,
   "metadata": {},
   "outputs": [
    {
     "name": "stdout",
     "output_type": "stream",
     "text": [
      "try ...\n",
      "ValueError: invalid literal for int() with base 10: 'a'\n",
      "finally ...\n",
      "END\n"
     ]
    }
   ],
   "source": [
    "try:\n",
    "    print('try ...')\n",
    "    r = 10 / int('a')\n",
    "    print('result:', r)\n",
    "except ValueError as e:\n",
    "    print('ValueError:', e)\n",
    "except ZeroDivisionError as  e:\n",
    "    print('ZeroDivisionError:', e)\n",
    "finally:\n",
    "    print('finally ...')\n",
    "print('END')"
   ]
  },
  {
   "cell_type": "code",
   "execution_count": 4,
   "metadata": {},
   "outputs": [],
   "source": [
    "# try...except可以跨越多层调用"
   ]
  },
  {
   "cell_type": "code",
   "execution_count": 5,
   "metadata": {},
   "outputs": [],
   "source": [
    "# main()调用foo(),foo()调用bar(),结果bar()出错，只要main()捕获到即可"
   ]
  },
  {
   "cell_type": "code",
   "execution_count": 6,
   "metadata": {},
   "outputs": [],
   "source": [
    "def foo(s):\n",
    "    return 10 / int(s)\n",
    "\n",
    "def bar(s):\n",
    "    return foo(s) * 2\n",
    "\n",
    "def main():\n",
    "    try:\n",
    "        bar('0')\n",
    "    except Exception as e:\n",
    "        print('Error:', e)\n",
    "    finally:\n",
    "        print('finally...')"
   ]
  },
  {
   "cell_type": "markdown",
   "metadata": {},
   "source": [
    "## 1.2 调用栈"
   ]
  },
  {
   "cell_type": "markdown",
   "metadata": {},
   "source": [
    "如果错误没有被捕获，就一直往上抛，最后被Python解释器捕获，打印一个错误信息，然后程序退出"
   ]
  },
  {
   "cell_type": "code",
   "execution_count": 7,
   "metadata": {},
   "outputs": [],
   "source": [
    "def foo(s):\n",
    "    return 10 / int(s)\n",
    "\n",
    "def bar(s):\n",
    "    return foo(s) * 2\n",
    "\n",
    "def main():\n",
    "    bar('0')"
   ]
  },
  {
   "cell_type": "code",
   "execution_count": 8,
   "metadata": {},
   "outputs": [
    {
     "ename": "ZeroDivisionError",
     "evalue": "division by zero",
     "output_type": "error",
     "traceback": [
      "\u001b[1;31m---------------------------------------------------------------------------\u001b[0m",
      "\u001b[1;31mZeroDivisionError\u001b[0m                         Traceback (most recent call last)",
      "\u001b[1;32m<ipython-input-8-263240bbee7e>\u001b[0m in \u001b[0;36m<module>\u001b[1;34m\u001b[0m\n\u001b[1;32m----> 1\u001b[1;33m \u001b[0mmain\u001b[0m\u001b[1;33m(\u001b[0m\u001b[1;33m)\u001b[0m\u001b[1;33m\u001b[0m\u001b[1;33m\u001b[0m\u001b[0m\n\u001b[0m",
      "\u001b[1;32m<ipython-input-7-eefab5c8f7e8>\u001b[0m in \u001b[0;36mmain\u001b[1;34m()\u001b[0m\n\u001b[0;32m      6\u001b[0m \u001b[1;33m\u001b[0m\u001b[0m\n\u001b[0;32m      7\u001b[0m \u001b[1;32mdef\u001b[0m \u001b[0mmain\u001b[0m\u001b[1;33m(\u001b[0m\u001b[1;33m)\u001b[0m\u001b[1;33m:\u001b[0m\u001b[1;33m\u001b[0m\u001b[1;33m\u001b[0m\u001b[0m\n\u001b[1;32m----> 8\u001b[1;33m     \u001b[0mbar\u001b[0m\u001b[1;33m(\u001b[0m\u001b[1;34m'0'\u001b[0m\u001b[1;33m)\u001b[0m\u001b[1;33m\u001b[0m\u001b[1;33m\u001b[0m\u001b[0m\n\u001b[0m",
      "\u001b[1;32m<ipython-input-7-eefab5c8f7e8>\u001b[0m in \u001b[0;36mbar\u001b[1;34m(s)\u001b[0m\n\u001b[0;32m      3\u001b[0m \u001b[1;33m\u001b[0m\u001b[0m\n\u001b[0;32m      4\u001b[0m \u001b[1;32mdef\u001b[0m \u001b[0mbar\u001b[0m\u001b[1;33m(\u001b[0m\u001b[0ms\u001b[0m\u001b[1;33m)\u001b[0m\u001b[1;33m:\u001b[0m\u001b[1;33m\u001b[0m\u001b[1;33m\u001b[0m\u001b[0m\n\u001b[1;32m----> 5\u001b[1;33m     \u001b[1;32mreturn\u001b[0m \u001b[0mfoo\u001b[0m\u001b[1;33m(\u001b[0m\u001b[0ms\u001b[0m\u001b[1;33m)\u001b[0m \u001b[1;33m*\u001b[0m \u001b[1;36m2\u001b[0m\u001b[1;33m\u001b[0m\u001b[1;33m\u001b[0m\u001b[0m\n\u001b[0m\u001b[0;32m      6\u001b[0m \u001b[1;33m\u001b[0m\u001b[0m\n\u001b[0;32m      7\u001b[0m \u001b[1;32mdef\u001b[0m \u001b[0mmain\u001b[0m\u001b[1;33m(\u001b[0m\u001b[1;33m)\u001b[0m\u001b[1;33m:\u001b[0m\u001b[1;33m\u001b[0m\u001b[1;33m\u001b[0m\u001b[0m\n",
      "\u001b[1;32m<ipython-input-7-eefab5c8f7e8>\u001b[0m in \u001b[0;36mfoo\u001b[1;34m(s)\u001b[0m\n\u001b[0;32m      1\u001b[0m \u001b[1;32mdef\u001b[0m \u001b[0mfoo\u001b[0m\u001b[1;33m(\u001b[0m\u001b[0ms\u001b[0m\u001b[1;33m)\u001b[0m\u001b[1;33m:\u001b[0m\u001b[1;33m\u001b[0m\u001b[1;33m\u001b[0m\u001b[0m\n\u001b[1;32m----> 2\u001b[1;33m     \u001b[1;32mreturn\u001b[0m \u001b[1;36m10\u001b[0m \u001b[1;33m/\u001b[0m \u001b[0mint\u001b[0m\u001b[1;33m(\u001b[0m\u001b[0ms\u001b[0m\u001b[1;33m)\u001b[0m\u001b[1;33m\u001b[0m\u001b[1;33m\u001b[0m\u001b[0m\n\u001b[0m\u001b[0;32m      3\u001b[0m \u001b[1;33m\u001b[0m\u001b[0m\n\u001b[0;32m      4\u001b[0m \u001b[1;32mdef\u001b[0m \u001b[0mbar\u001b[0m\u001b[1;33m(\u001b[0m\u001b[0ms\u001b[0m\u001b[1;33m)\u001b[0m\u001b[1;33m:\u001b[0m\u001b[1;33m\u001b[0m\u001b[1;33m\u001b[0m\u001b[0m\n\u001b[0;32m      5\u001b[0m     \u001b[1;32mreturn\u001b[0m \u001b[0mfoo\u001b[0m\u001b[1;33m(\u001b[0m\u001b[0ms\u001b[0m\u001b[1;33m)\u001b[0m \u001b[1;33m*\u001b[0m \u001b[1;36m2\u001b[0m\u001b[1;33m\u001b[0m\u001b[1;33m\u001b[0m\u001b[0m\n",
      "\u001b[1;31mZeroDivisionError\u001b[0m: division by zero"
     ]
    }
   ],
   "source": [
    "main()"
   ]
  },
  {
   "cell_type": "code",
   "execution_count": null,
   "metadata": {},
   "outputs": [],
   "source": [
    "# 解读错误\n",
    "\n",
    "# Traceback (most recent call last)\n",
    "# 错误的跟踪信息\n",
    "\n",
    "# <ipython-input-13-263240bbee7e> in <module>\n",
    "#----> 1 main()\n",
    "# 调用main()出错\n",
    "\n",
    "# <ipython-input-12-eefab5c8f7e8> in main()\n",
    "#      6 \n",
    "#      7 def main():\n",
    "#----> 8     bar('0')\n",
    "# 调用bar('0')出错\n",
    "\n",
    "# <ipython-input-12-eefab5c8f7e8> in bar(s)\n",
    "#      3 \n",
    "#      4 def bar(s):\n",
    "#----> 5     return foo(s) * 2\n",
    "#      6 \n",
    "#      7 def main():\n",
    "# 调用return foo(s) * 2出错\n",
    "\n",
    "#<ipython-input-12-eefab5c8f7e8> in foo(s)\n",
    "#      1 def foo(s):\n",
    "#----> 2     return 10 / int(s)\n",
    "#      3 \n",
    "#      4 def bar(s):\n",
    "#      5     return foo(s) * 2\n",
    "#\n",
    "#ZeroDivisionError: division by zero\n",
    "#根据错误类型ZeroDivisionError,判断int(s)没有出错，但是返回0，计算10/0时出错"
   ]
  },
  {
   "cell_type": "markdown",
   "metadata": {},
   "source": [
    "出错的时候，一定要分析错误的调用栈信息，才能定位错误的位置。"
   ]
  },
  {
   "cell_type": "markdown",
   "metadata": {},
   "source": [
    "## 1.3 记录错误"
   ]
  },
  {
   "cell_type": "markdown",
   "metadata": {},
   "source": [
    "能捕获错误，就可以把错误堆栈打印出来，然后分析错误原因，同时让程序继续执行下去。"
   ]
  },
  {
   "cell_type": "code",
   "execution_count": null,
   "metadata": {},
   "outputs": [],
   "source": [
    "# Python内置的logging模块可以非常容易地记录错误信息"
   ]
  },
  {
   "cell_type": "code",
   "execution_count": null,
   "metadata": {},
   "outputs": [],
   "source": [
    "import logging\n",
    "\n",
    "def foo(s):\n",
    "    return 10 / int(s)\n",
    "\n",
    "def bar(s):\n",
    "    return foo(s) * 2\n",
    "\n",
    "def main():\n",
    "    try:\n",
    "        bar('0')\n",
    "    except Exception as e:\n",
    "        logging.exception(e)\n",
    "    print('END')"
   ]
  },
  {
   "cell_type": "code",
   "execution_count": null,
   "metadata": {},
   "outputs": [],
   "source": [
    "main()"
   ]
  },
  {
   "cell_type": "markdown",
   "metadata": {},
   "source": [
    "程序打印完错误信息后会继续执行，并正常退出通过配置，logging还可以把错误记录到日志文件里，方便事后排查"
   ]
  },
  {
   "cell_type": "markdown",
   "metadata": {},
   "source": [
    "## 1.4 抛出错误"
   ]
  },
  {
   "cell_type": "markdown",
   "metadata": {},
   "source": [
    "错误是class，捕获一个错误就是捕获到该class的一个实例。自己编写的函数也可以抛出错误。"
   ]
  },
  {
   "cell_type": "code",
   "execution_count": null,
   "metadata": {},
   "outputs": [],
   "source": [
    "class FooError(ValueError):\n",
    "    pass\n",
    "\n",
    "def foo(s):\n",
    "    n = int(s)\n",
    "    if n==0:\n",
    "        raise FooError('invalid value: %s' % s)\n",
    "    return 10 / n"
   ]
  },
  {
   "cell_type": "code",
   "execution_count": null,
   "metadata": {},
   "outputs": [],
   "source": [
    "foo('0')"
   ]
  },
  {
   "cell_type": "markdown",
   "metadata": {},
   "source": [
    "只有必要的时候才定义我们自己的错误类型。尽量使用Python内置的错误类型。"
   ]
  },
  {
   "cell_type": "markdown",
   "metadata": {},
   "source": [
    "## 小结"
   ]
  },
  {
   "cell_type": "markdown",
   "metadata": {},
   "source": [
    "Python内置的try...except...finally用来处理错误十分方便。出错时，会分析错误信息并定位错误发生的代码位置。程序也可以\n",
    "主动抛出错误，让那个调用者来处理相应的错误。但是，应该在文档写清楚可能会抛出哪些错误，以及错误产生的原因。"
   ]
  },
  {
   "cell_type": "markdown",
   "metadata": {},
   "source": [
    "# 二、 调试"
   ]
  },
  {
   "cell_type": "markdown",
   "metadata": {},
   "source": [
    "程序能一次写完并正确运行的概率很小。总会有各种bug需要修正。需要一套调试程序的手段来修复bug。"
   ]
  },
  {
   "cell_type": "markdown",
   "metadata": {},
   "source": [
    "## 2.1 print()"
   ]
  },
  {
   "cell_type": "code",
   "execution_count": null,
   "metadata": {},
   "outputs": [],
   "source": [
    "def foo(s):\n",
    "    n = int(s)\n",
    "    print('>>> n = %d' % n)\n",
    "    return 10 / n\n",
    "\n",
    "def main():\n",
    "    foo('0')\n",
    "    \n",
    "main()"
   ]
  },
  {
   "cell_type": "markdown",
   "metadata": {},
   "source": [
    "print()的运行结果包含很多垃圾信息，不是首选。"
   ]
  },
  {
   "cell_type": "markdown",
   "metadata": {},
   "source": [
    "## 2.2 断言"
   ]
  },
  {
   "cell_type": "markdown",
   "metadata": {},
   "source": [
    "凡是用print()来辅助查看的地方都可以用断言(assert)来替代"
   ]
  },
  {
   "cell_type": "code",
   "execution_count": null,
   "metadata": {},
   "outputs": [],
   "source": [
    "def foo(s):\n",
    "    n = int(s)\n",
    "    assert n != 0, 'n is zero!' # 表达式n != 0应该是True，否则，根据程序运行的逻辑，后面的代码肯定会出错\n",
    "    return 10 / n\n",
    "\n",
    "def main():\n",
    "    foo('0')\n",
    "    \n",
    "main()"
   ]
  },
  {
   "cell_type": "markdown",
   "metadata": {},
   "source": [
    "如果断言失败，assert语句本身就会抛出AssertionError:"
   ]
  },
  {
   "cell_type": "markdown",
   "metadata": {},
   "source": [
    "如果超出都是assert，和print()相比也差不多。不过启动Python解释器时可以用-0参数来关闭assert，关闭时，你可以把assert语句当作pass。"
   ]
  },
  {
   "cell_type": "markdown",
   "metadata": {},
   "source": [
    "## 2.3 logging"
   ]
  },
  {
   "cell_type": "markdown",
   "metadata": {},
   "source": [
    "logging不会抛出错误，而且可以输出到文件。"
   ]
  },
  {
   "cell_type": "code",
   "execution_count": null,
   "metadata": {},
   "outputs": [],
   "source": [
    "import logging\n",
    "logging.basicConfig(level=logging.INFO)\n",
    "\n",
    "s = '0'\n",
    "n = int(s)\n",
    "logging.info('n = %d' % n)\n",
    "print(10 / n)"
   ]
  },
  {
   "cell_type": "markdown",
   "metadata": {},
   "source": [
    "logging的另一个好处是通过简单的配置，一条语句可以同时输出到不同的地方，比如console和文件。"
   ]
  },
  {
   "cell_type": "markdown",
   "metadata": {},
   "source": [
    "## 2.4 pdb"
   ]
  },
  {
   "cell_type": "markdown",
   "metadata": {},
   "source": [
    "启动Python的调试器pdb，让程序以单步方式运行，可以随时查看运行状态。"
   ]
  },
  {
   "cell_type": "code",
   "execution_count": null,
   "metadata": {},
   "outputs": [],
   "source": [
    "# err.py\n",
    "\n",
    "s = '0'\n",
    "n = int(s)\n",
    "print(10 / n)"
   ]
  },
  {
   "cell_type": "markdown",
   "metadata": {},
   "source": [
    "输入命令n可以单步执行代码。任何时候都可以输入命令p 变量名来查看变量。输入命令q结束调试。"
   ]
  },
  {
   "cell_type": "markdown",
   "metadata": {},
   "source": [
    "## 2.5 pdb.set_trace()"
   ]
  },
  {
   "cell_type": "markdown",
   "metadata": {},
   "source": [
    "需要import pdb，在出错的地方放一个pdb.set_trace()，就可以设置一个断点"
   ]
  },
  {
   "cell_type": "code",
   "execution_count": null,
   "metadata": {},
   "outputs": [],
   "source": [
    "# err.py\n",
    "import pdb\n",
    "\n",
    "s = '0'\n",
    "n = int(s)\n",
    "pdb.set_trace() # 运行到这里会自动暂停\n",
    "print(10 / n)"
   ]
  },
  {
   "cell_type": "markdown",
   "metadata": {},
   "source": [
    "运行代码，程序会自动在pdb.set_trace()暂停并进入pdb调试环境，可以用命令p查看变量，或者用命令c继续运行"
   ]
  },
  {
   "cell_type": "markdown",
   "metadata": {},
   "source": [
    "## 2.6 IDE"
   ]
  },
  {
   "cell_type": "markdown",
   "metadata": {},
   "source": [
    "比较直接地设置断点、单步执行，就需要一个支持调试功能的IDE：Visual Studio Code(安装Python插件)、PyCharm、Eclipse(安装pydev插件)"
   ]
  },
  {
   "cell_type": "markdown",
   "metadata": {},
   "source": [
    "## 小结"
   ]
  },
  {
   "cell_type": "markdown",
   "metadata": {},
   "source": [
    "写程序必须经过调试，虽然IDE调试方便，但是最后logging才是最实用的。"
   ]
  },
  {
   "cell_type": "markdown",
   "metadata": {},
   "source": [
    "# 三、 单元测试"
   ]
  },
  {
   "cell_type": "markdown",
   "metadata": {},
   "source": [
    "单元测试是用来对一个模块、一个函数或者一个类来进行正确性检验的测试工作。\n",
    "\n",
    "如果单元测试通过，说明我们测试的函数能够正常工作。如果单元测试不通过，要么函数有bug，要么测试条件输入不正确，总之，需要修复使单元测试能够通过\n",
    "\n",
    "测试为驱动的开发模式最大的好处就是确保一个程序模块的行为符合我们设计的测试用例"
   ]
  },
  {
   "cell_type": "code",
   "execution_count": null,
   "metadata": {},
   "outputs": [],
   "source": [
    "# 编写一个Dict类，这个类的行为和dict一样，但是可以通过属性来访问\n",
    "\n",
    "# mydict.py\n",
    "# class Dict(dict):\n",
    "    \n",
    "#   def __init__(self, **kw):\n",
    "#        super().__init__(**kw)\n",
    "        \n",
    "#    def __getattr__(self, key):\n",
    "#        try:\n",
    "#            return self[key]\n",
    "#        except KeyError:\n",
    "#            raise AttributeError(r\"'Dict' object has no attribute '%s'\" % key)\n",
    "            \n",
    "#    def __setattr__(self, key, value):\n",
    "#        self[key] = value"
   ]
  },
  {
   "cell_type": "code",
   "execution_count": null,
   "metadata": {},
   "outputs": [],
   "source": [
    "# 为了编写单元测试，需要引入Python自带的unittest模块\n",
    "\n",
    "# mydict_test.py\n",
    "\n",
    "# import unittest\n",
    "\n",
    "# from mydict import Dict\n",
    "\n",
    "# class TestDict(unittest.TestCase):\n",
    "\n",
    "#   def test_init(self):\n",
    "#      d = Dict(a=1, b='test')\n",
    "#      self.assertEqual(d.a, 1)\n",
    "#      self.assertEqual(d.b, 'test')\n",
    "#      self.assertTrue(isinstance(d, dict))\n",
    "\n",
    "#   def test_key(self):\n",
    "#      d = Dict()\n",
    "#      d['key'] = 'value'\n",
    "#      self.assertEqual(d.key, 'value')\n",
    "\n",
    "#   def test_attr(self):\n",
    "#      d = Dict()\n",
    "#      d.key = 'value'\n",
    "#      self.assertTrue('k' in d)\n",
    "#      self.assertEqual(d['key'], 'value')\n",
    "\n",
    "#   def test_keyerror(self):\n",
    "#      d = Dict()\n",
    "#      with self.asserRaises(KeyError):\n",
    "#          value = d['empty']\n",
    "\n",
    "#   def test_attrerror(self):\n",
    "#      d = Dict()\n",
    "#      with self.asserRaises(AttributeError):\n",
    "#          value = d.empty"
   ]
  },
  {
   "cell_type": "markdown",
   "metadata": {},
   "source": [
    "编写单元测试时，需要编写一个测试类，从unittest.TestCase继承"
   ]
  },
  {
   "cell_type": "markdown",
   "metadata": {},
   "source": [
    "以test开头的方法就是测试方法，不以test开头的方法不被认为使测试方法，测试的时候不会被执行"
   ]
  },
  {
   "cell_type": "code",
   "execution_count": null,
   "metadata": {},
   "outputs": [],
   "source": [
    "# 每一类测试都需要编写一个test_xxx()方法。由于unittest.TestCase提供了很多内置的条件判断，所以只需要调用这些方法就可以断言输出是否是所期待的\n",
    "# 最常用的断言\n",
    "\n",
    "# self.assertEqual(abs(-1), 1) # 断言函数返回的结果与1相等"
   ]
  },
  {
   "cell_type": "code",
   "execution_count": null,
   "metadata": {},
   "outputs": [],
   "source": [
    "# 另一种断言就是期待抛出指定类型的Error\n",
    "\n",
    "# with self.assertRaises(KeyError):\n",
    "#     value = d['empty']\n",
    "\n",
    "# 通过d.empty访问不存在的key时，期待抛出AttributeError\n",
    "# with self.assertRaises(AttributeError):\n",
    "#     value = d.empty"
   ]
  },
  {
   "cell_type": "markdown",
   "metadata": {},
   "source": [
    "## 3.1 运行单元测试"
   ]
  },
  {
   "cell_type": "code",
   "execution_count": null,
   "metadata": {},
   "outputs": [],
   "source": [
    "# 编写好单元测试，既可以运行单元测试。最简单的运行方式时在mydict_test.py的最后加上两行代码\n",
    "\n",
    "# if __name__ = '__main__':\n",
    "#    unittest.main()"
   ]
  },
  {
   "cell_type": "markdown",
   "metadata": {},
   "source": [
    "就可以把mydict_test.py当作正常python脚本运行"
   ]
  },
  {
   "cell_type": "code",
   "execution_count": null,
   "metadata": {},
   "outputs": [],
   "source": [
    "# 另一种方式在命令行通过参数-m unittest直接运行单元测试\n",
    "\n",
    "# -m unittest mydict_test"
   ]
  },
  {
   "cell_type": "markdown",
   "metadata": {},
   "source": [
    "## 3.2 setUp与tearDown"
   ]
  },
  {
   "cell_type": "markdown",
   "metadata": {},
   "source": [
    "假设测试需要启动数据库，就可以在setUp()中连接数据库，在tearDown()中关闭数据库，这样就不必再每个测试方法中重复相同的代码"
   ]
  },
  {
   "cell_type": "code",
   "execution_count": null,
   "metadata": {},
   "outputs": [],
   "source": [
    "# class TestDict(unittest.TestCase):\n",
    "    \n",
    "#    def setUp(self):\n",
    "#       print('setup ...')\n",
    "        \n",
    "#    def tearDown(self):\n",
    "#        print('tearDown ...')"
   ]
  },
  {
   "cell_type": "markdown",
   "metadata": {},
   "source": [
    "可以再次运行测试看看每个测试方调用前后是否会打印setUp和tearDown"
   ]
  },
  {
   "cell_type": "markdown",
   "metadata": {},
   "source": [
    "## 小结"
   ]
  },
  {
   "cell_type": "markdown",
   "metadata": {},
   "source": [
    "单元测试可以有效地测试某个程序模块的行为，是未来重构代码的信心保证\n",
    "\n",
    "单元测试的测试用例要覆盖常用的输入组合、边界条件和异常\n",
    "\n",
    "单元测试代码要非常简单，如果测试代码太复杂，那么测试代码本身就可能有bug\n",
    "\n",
    "单元测试通过了并不意味着程序就没有bug，但是不通过程序肯定会bug"
   ]
  },
  {
   "cell_type": "markdown",
   "metadata": {},
   "source": [
    "# 四、 文档测试"
   ]
  },
  {
   "cell_type": "markdown",
   "metadata": {},
   "source": [
    "阅读官方文档，可以看到很多实例代码"
   ]
  },
  {
   "cell_type": "code",
   "execution_count": null,
   "metadata": {},
   "outputs": [],
   "source": [
    "import re"
   ]
  },
  {
   "cell_type": "code",
   "execution_count": null,
   "metadata": {},
   "outputs": [],
   "source": [
    "m = re.search('(?<=abc)def', 'abcdef')"
   ]
  },
  {
   "cell_type": "code",
   "execution_count": 9,
   "metadata": {},
   "outputs": [
    {
     "ename": "NameError",
     "evalue": "name 'm' is not defined",
     "output_type": "error",
     "traceback": [
      "\u001b[1;31m---------------------------------------------------------------------------\u001b[0m",
      "\u001b[1;31mNameError\u001b[0m                                 Traceback (most recent call last)",
      "\u001b[1;32m<ipython-input-9-6dd36cae549c>\u001b[0m in \u001b[0;36m<module>\u001b[1;34m\u001b[0m\n\u001b[1;32m----> 1\u001b[1;33m \u001b[0mm\u001b[0m\u001b[1;33m.\u001b[0m\u001b[0mgroup\u001b[0m\u001b[1;33m(\u001b[0m\u001b[1;36m0\u001b[0m\u001b[1;33m)\u001b[0m\u001b[1;33m\u001b[0m\u001b[1;33m\u001b[0m\u001b[0m\n\u001b[0m",
      "\u001b[1;31mNameError\u001b[0m: name 'm' is not defined"
     ]
    }
   ],
   "source": [
    "m.group(0)"
   ]
  },
  {
   "cell_type": "code",
   "execution_count": null,
   "metadata": {},
   "outputs": [],
   "source": [
    "# 如果这样写注释\n",
    "\n",
    "def abs(n):\n",
    "    '''\n",
    "    Function to get absolute value of number.\n",
    "    \n",
    "    Example:\n",
    "    \n",
    "    >>>abs(1)\n",
    "    1\n",
    "    >>>abs(-1)\n",
    "    1\n",
    "    >>>abs(0)\n",
    "    0\n",
    "    '''\n",
    "    return n if n >=0 else (-n)"
   ]
  },
  {
   "cell_type": "markdown",
   "metadata": {},
   "source": [
    "Python内置的文档测试(doctest)模块可以直接提取注释中的代码并执行测试"
   ]
  },
  {
   "cell_type": "markdown",
   "metadata": {},
   "source": [
    "class Dict(dict):\n",
    "    '''\n",
    "    Simple dic but also access as x.y style.\n",
    "    \n",
    "    >>>d1 = Dict()\n",
    "    >>>d1['x'] = 100\n",
    "    >>>d1.x\n",
    "    100\n",
    "    >>>d1.y = 200\n",
    "    >>>d1['y']\n",
    "    200\n",
    "    >>>d2 = Dict(a=1, b=2 ,c='3')\n",
    "    >>>d2.c\n",
    "    '3'\n",
    "    >>>d2['empty']\n",
    "    Traceback (most recent call last):\n",
    "        ...\n",
    "    KeyError: 'empty'\n",
    "    >>>d2.empty\n",
    "    Traceback (most recent call last):\n",
    "        ...\n",
    "    AttributeError:'Dict' object has no attribute 'empty'\n",
    "    '''\n",
    "    \n",
    "    def __init__(self, **kw):\n",
    "        super(Dict, self).__init__(**kw)\n",
    "        \n",
    "    def __getattr__(self, key):\n",
    "        try:\n",
    "            return self[key]\n",
    "        except KeyError:\n",
    "            raise AttributeError(r\"'Dict' object has no attribute '%s'\" % key)\n",
    "            \n",
    "    def __setattr__(self, key, value):\n",
    "        self[key] = value\n",
    "        \n",
    "if __name__=='__main__':\n",
    "    import doctest\n",
    "    doctest.testmod()"
   ]
  },
  {
   "cell_type": "markdown",
   "metadata": {},
   "source": [
    "## 小结"
   ]
  },
  {
   "cell_type": "markdown",
   "metadata": {},
   "source": [
    "doctest可测试也可以直接作为示例代码。通过某些文档生成工具，就可以自动把包含doctest的注释提取出来。"
   ]
  }
 ],
 "metadata": {
  "kernelspec": {
   "display_name": "Python 3",
   "language": "python",
   "name": "python3"
  },
  "language_info": {
   "codemirror_mode": {
    "name": "ipython",
    "version": 3
   },
   "file_extension": ".py",
   "mimetype": "text/x-python",
   "name": "python",
   "nbconvert_exporter": "python",
   "pygments_lexer": "ipython3",
   "version": "3.7.4"
  }
 },
 "nbformat": 4,
 "nbformat_minor": 2
}
